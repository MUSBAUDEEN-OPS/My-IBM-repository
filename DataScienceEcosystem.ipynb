{
 "cells": [
  {
   "cell_type": "markdown",
   "id": "29780fe1",
   "metadata": {},
   "source": [
    "<center>\n",
    "    <img src=\"https://cf-courses-data.s3.us.cloud-object-storage.appdomain.cloud/IBMDeveloperSkillsNetwork-DS0105EN-SkillsNetwork/labs/Module2/images/SN_web_lightmode.png\" width=\"300\" alt=\"cognitiveclass.ai logo\">\n",
    "</center>"
   ]
  },
  {
   "cell_type": "markdown",
   "id": "53c63860",
   "metadata": {},
   "source": [
    "#### Add your code below following the instructions given in the course"
   ]
  },
  {
   "cell_type": "markdown",
   "id": "7e81f908",
   "metadata": {},
   "source": [
    "# Data Science Tools and Ecosystem"
   ]
  },
  {
   "cell_type": "markdown",
   "id": "a4e52c6c",
   "metadata": {},
   "source": [
    "In this notebook, Data Science Tools and Ecosytem are summerized"
   ]
  },
  {
   "cell_type": "markdown",
   "id": "f4f25309",
   "metadata": {},
   "source": [
    "Some of the popular languages that Data Scientists uses are:\n",
    "\n",
    "    1. Python\n",
    "    2. Java\n",
    "    3. R\n",
    "    4. SQL\n",
    "    5. c++"
   ]
  },
  {
   "cell_type": "markdown",
   "id": "d1abe3f7",
   "metadata": {},
   "source": [
    "Some of the commonly used libraries used by Data Scientist include:\n",
    "    \n",
    "    1. Matplotlib\n",
    "    2. Scikit-learn\n",
    "    3. Pandas\n",
    "    4. Numpy\n",
    "    5. Scipy"
   ]
  },
  {
   "cell_type": "markdown",
   "id": "d1db4b0f",
   "metadata": {},
   "source": [
    "|Data Science Tools|\n",
    "|------------------|\n",
    "|Jupyter Notebook|\n",
    "|Rstudio|\n",
    "|Spyder|\n",
    "|ROdeo|"
   ]
  },
  {
   "cell_type": "markdown",
   "id": "f621b14d",
   "metadata": {},
   "source": [
    "### Below are a few example of evaluating arithmetic expressions in python"
   ]
  },
  {
   "cell_type": "code",
   "execution_count": 4,
   "id": "c70b3a97",
   "metadata": {},
   "outputs": [
    {
     "name": "stdout",
     "output_type": "stream",
     "text": [
      "34\n",
      "64\n",
      "5\n",
      "98\n",
      "170\n",
      "46.8\n"
     ]
    }
   ],
   "source": [
    "z= 2+3\n",
    "x= min(65,34,44)\n",
    "y= max(2*4,55/3,pow(4,3))\n",
    "\n",
    "print(x)\n",
    "print(y)\n",
    "print(z)\n",
    "print(x+y)\n",
    "print(z*x)\n",
    "print(x+y/z)"
   ]
  },
  {
   "cell_type": "markdown",
   "id": "7c2e73e3",
   "metadata": {},
   "source": [
    "This is a simple arithmetic expression to multiply then add integers"
   ]
  },
  {
   "cell_type": "code",
   "execution_count": 5,
   "id": "11d79fca",
   "metadata": {},
   "outputs": [
    {
     "data": {
      "text/plain": [
       "17"
      ]
     },
     "execution_count": 5,
     "metadata": {},
     "output_type": "execute_result"
    }
   ],
   "source": [
    "(3*4)+5"
   ]
  },
  {
   "cell_type": "markdown",
   "id": "f2bc0ad7",
   "metadata": {},
   "source": [
    "This will convert 200 minutes to hours by diving by 60"
   ]
  },
  {
   "cell_type": "code",
   "execution_count": 11,
   "id": "b299d74f",
   "metadata": {},
   "outputs": [
    {
     "data": {
      "text/plain": [
       "3.3333333333333335"
      ]
     },
     "execution_count": 11,
     "metadata": {},
     "output_type": "execute_result"
    }
   ],
   "source": [
    "200/60"
   ]
  },
  {
   "cell_type": "code",
   "execution_count": 13,
   "id": "01538b54",
   "metadata": {},
   "outputs": [
    {
     "data": {
      "text/plain": [
       "3"
      ]
     },
     "execution_count": 13,
     "metadata": {},
     "output_type": "execute_result"
    }
   ],
   "source": [
    "200//60"
   ]
  },
  {
   "cell_type": "markdown",
   "id": "41e3a5ac",
   "metadata": {},
   "source": [
    "**Objectives:** Some of the key takeaways covered in this course includes List of popular language for Data Science:\n",
    "\n",
    "- python\n",
    "- Scala\n",
    "- Java\n",
    "- SQL\n",
    "- C++\n",
    "        \n",
    "    \n",
    "        "
   ]
  },
  {
   "cell_type": "markdown",
   "id": "90818ee1",
   "metadata": {},
   "source": [
    "## Author\n",
    "**Ibrahim Musbaudeen Olaitan**"
   ]
  }
 ],
 "metadata": {
  "kernelspec": {
   "display_name": "Python 3 (ipykernel)",
   "language": "python",
   "name": "python3"
  },
  "language_info": {
   "codemirror_mode": {
    "name": "ipython",
    "version": 3
   },
   "file_extension": ".py",
   "mimetype": "text/x-python",
   "name": "python",
   "nbconvert_exporter": "python",
   "pygments_lexer": "ipython3",
   "version": "3.10.12"
  }
 },
 "nbformat": 4,
 "nbformat_minor": 5
}
